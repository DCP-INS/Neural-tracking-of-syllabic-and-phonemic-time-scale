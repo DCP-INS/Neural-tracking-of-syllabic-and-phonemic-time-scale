{
 "cells": [
  {
   "cell_type": "code",
   "execution_count": 1,
   "id": "c9b8eb0b-5cca-468e-be3f-5b9938875ff3",
   "metadata": {},
   "outputs": [],
   "source": [
    "import numpy as np\n",
    "import pandas as pd\n",
    "import mne\n",
    "from sklearn.preprocessing import StandardScaler\n",
    "from spyeeg.models.TRF import TRFEstimator\n",
    "import pickle"
   ]
  },
  {
   "cell_type": "code",
   "execution_count": 2,
   "id": "5224a3f8-7731-47ff-b287-94c183f14a3b",
   "metadata": {},
   "outputs": [],
   "source": [
    "# thanks @ Pierre Guilleminot\n",
    "def trf_spyeeg(regs, data, tmin, tmax, fs, alpha, channels):\n",
    "\n",
    "    #:param regs: ndarray,  shape (n_times, n_reg)\n",
    "    #:param data: ndarray,  shape (n_times, n_chan)\n",
    "    #:param tmin: time-window min (in seconds)\n",
    "    #:param tmax: time-window max (in seconds)\n",
    "    #:param fs: frequency sampling of data and regressors\n",
    "    #:param alpha: can be an int or a list\n",
    "    #:param channels: list of channels names\n",
    "    #:return: - r² score for each channel, shape : (n_chan)\n",
    "    #- kernels of TRF, shape (tw_length (in sample), n_reg, n_chan)\n",
    " \n",
    "    trf = TRFEstimator(tmin=tmin, tmax=tmax, srate=fs, alpha=alpha)\n",
    "    #shape(n_folds, n_channels, n_alpha)\n",
    "    scores_ = trf.xval_eval(regs, data, segment_length=None, fit_mode='direct', verbose = False)\n",
    "    #shape (n_chan, n_alpha)\n",
    "    scores_ = np.mean(scores_, axis=0)\n",
    "    #shape (tw, n_reg, n_chan, n_alpha)\n",
    "    kernels_ = trf.get_coef()\n",
    "    ix_best_alpha = np.argmax(scores_, axis=1)\n",
    "    #shape (n_chan)\n",
    "    scores = np.zeros(len(channels))\n",
    "    #shape (tw, n_reg, n_chan)\n",
    "    kernels = np.zeros((kernels_.shape[0], kernels_.shape[1], kernels_.shape[2]))\n",
    "    for i_chan in range(len(channels)):\n",
    "        scores[i_chan] = scores_[i_chan, ix_best_alpha[i_chan]]\n",
    "        kernels[:,:,i_chan] = kernels_[:,:,i_chan, ix_best_alpha[i_chan]]\n",
    "\n",
    "    return scores_**2,kernels_\n"
   ]
  }
 ],
 "metadata": {
  "kernelspec": {
   "display_name": "Python 3 (ipykernel)",
   "language": "python",
   "name": "python3"
  },
  "language_info": {
   "codemirror_mode": {
    "name": "ipython",
    "version": 3
   },
   "file_extension": ".py",
   "mimetype": "text/x-python",
   "name": "python",
   "nbconvert_exporter": "python",
   "pygments_lexer": "ipython3",
   "version": "3.8.19"
  }
 },
 "nbformat": 4,
 "nbformat_minor": 5
}
