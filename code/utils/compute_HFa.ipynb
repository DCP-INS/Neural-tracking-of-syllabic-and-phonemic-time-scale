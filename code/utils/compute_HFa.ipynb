{
 "cells": [
  {
   "cell_type": "code",
   "execution_count": null,
   "id": "dda5446f",
   "metadata": {},
   "outputs": [],
   "source": [
    "import numpy as np\n",
    "import pandas as pd\n",
    "import mne \n",
    "import os \n",
    "from natsort import natsorted\n",
    "import re\n",
    "import gc\n",
    "from scipy.signal import hilbert\n",
    "from sklearn.decomposition import  PCA"
   ]
  },
  {
   "cell_type": "code",
   "execution_count": null,
   "id": "7486a2b5",
   "metadata": {},
   "outputs": [],
   "source": [
    "# determine filter parameters   (Hamilton et al., 2021)\n",
    "freqs = np.round(np.logspace(*np.log10([70, 136]), num=8),2) "
   ]
  },
  {
   "cell_type": "code",
   "execution_count": null,
   "id": "f0bbfc12",
   "metadata": {},
   "outputs": [],
   "source": [
    "pca = PCA(n_components=2)"
   ]
  },
  {
   "cell_type": "code",
   "execution_count": null,
   "id": "cd38c153",
   "metadata": {},
   "outputs": [],
   "source": [
    "fname = 'epochsfile.fif'\n",
    "epochs = mne.read_epochs(fname, proj=True, preload=True, verbose=None) \n",
    "# get HFa response for each condition for each electrode\n",
    "electrodes = epochs.info['ch_names']\n",
    "infoHGB = epochs.metadata\n",
    "nconds,nchans,ntimes = epochs.get_data().shape \n",
    "HGB_all = np.empty((nconds,nchans,ntimes)) \n",
    "\n",
    "epo_data = epochs.get_data()\n",
    "for num in range(nconds):\n",
    "    for numi in range(nchans):\n",
    "        hlbr = np.empty((len(freqs),ntimes))\n",
    "        for i, (nombre,freq) in enumerate(zip(range(len(freqs)),freqs)):\n",
    "            signal = mne.filter.filter_data(epo_data[num,numi,:], sfreq=epochs.info['sfreq'],\n",
    "                                                l_freq=freq-1, h_freq=freq+1,  \n",
    "                                                method='iir', verbose=False,n_jobs=-1,) #fir\n",
    "            signal = (signal - np.mean(signal)) / np.std(signal)\n",
    "            signal = np.abs(hilbert(signal))\n",
    "            hlbr[nombre]= signal\n",
    "        unit_gamma = pca.fit_transform(hlbr.T)[:,0]\n",
    "        HGB_all[num,numi,:] = unit_gamma\n",
    "# recreate epochs structure with HFa data\n",
    "print('done!')\n",
    "ch_types = ['seeg']*nchans\n",
    "info = mne.create_info(electrodes, ch_types=ch_types, sfreq=epochs.info['sfreq'])\n",
    "\n",
    "HGB_epochs = mne.EpochsArray(HGB_all, info,tmin=-2)\n",
    "# ad dataframe containing conditions\n",
    "HGB_epochs.metadata = epochs.metadata\n",
    "HGB_epochs = HGB_epochs.resample(256.0)\n",
    "final_path = '\\\\epochsHFa\\\\'\n",
    "if not os.path.exists(final_path):\n",
    "    os.makedirs(final_path)\n",
    "HGB_epochs.save(final_path+'_HGB-epo.fif', overwrite=True)\n",
    "del epochs, epo_data\n",
    "gc.collect()"
   ]
  },
  {
   "cell_type": "code",
   "execution_count": null,
   "id": "9170c2c4",
   "metadata": {},
   "outputs": [],
   "source": []
  }
 ],
 "metadata": {
  "kernelspec": {
   "display_name": "Python 3 (ipykernel)",
   "language": "python",
   "name": "python3"
  },
  "language_info": {
   "codemirror_mode": {
    "name": "ipython",
    "version": 3
   },
   "file_extension": ".py",
   "mimetype": "text/x-python",
   "name": "python",
   "nbconvert_exporter": "python",
   "pygments_lexer": "ipython3",
   "version": "3.8.8"
  }
 },
 "nbformat": 4,
 "nbformat_minor": 5
}
